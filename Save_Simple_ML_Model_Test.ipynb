{
 "cells": [
  {
   "cell_type": "code",
   "execution_count": 10,
   "metadata": {},
   "outputs": [
    {
     "ename": "SyntaxError",
     "evalue": "invalid syntax (<ipython-input-10-13c0c5ed474a>, line 9)",
     "output_type": "error",
     "traceback": [
      "\u001b[1;36m  File \u001b[1;32m\"<ipython-input-10-13c0c5ed474a>\"\u001b[1;36m, line \u001b[1;32m9\u001b[0m\n\u001b[1;33m    print svm_regression_model.predict([5])\u001b[0m\n\u001b[1;37m                             ^\u001b[0m\n\u001b[1;31mSyntaxError\u001b[0m\u001b[1;31m:\u001b[0m invalid syntax\n"
     ]
    }
   ],
   "source": [
    "from sklearn import svm\n",
    "\n",
    "x = [[1],[4],[7],[13],[10]]\n",
    "y1 = [16, 34, 52, 88, 70]\n",
    "y2 = [1, 16, 49, 169, 100]\n",
    "\n",
    "svm_regression_model = svm.SVR(kernel='poly')\n",
    "svm_regression_model.fit(x,y1)\n",
    "print svm_regression_model.predict([5])\n",
    "\n",
    "svm_regression_model = svm.SVR(kernel='poly')\n",
    "svm_regression_model.fit(x,y2)\n",
    "print svm_regression_model.predict([5])"
   ]
  }
 ],
 "metadata": {
  "kernelspec": {
   "display_name": "Python 3",
   "language": "python",
   "name": "python3"
  },
  "language_info": {
   "codemirror_mode": {
    "name": "ipython",
    "version": 3
   },
   "file_extension": ".py",
   "mimetype": "text/x-python",
   "name": "python",
   "nbconvert_exporter": "python",
   "pygments_lexer": "ipython3",
   "version": "3.6.3"
  }
 },
 "nbformat": 4,
 "nbformat_minor": 2
}
